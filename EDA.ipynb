{
 "cells": [
  {
   "cell_type": "code",
   "execution_count": 1,
   "metadata": {},
   "outputs": [],
   "source": [
    "import pandas as pd\n",
    "import datetime\n",
    "from pandas import DataFrame\n",
    "import seaborn as sb\n",
    "from matplotlib import pyplot"
   ]
  },
  {
   "cell_type": "code",
   "execution_count": 2,
   "metadata": {},
   "outputs": [
    {
     "data": {
      "text/html": [
       "<div>\n",
       "<style scoped>\n",
       "    .dataframe tbody tr th:only-of-type {\n",
       "        vertical-align: middle;\n",
       "    }\n",
       "\n",
       "    .dataframe tbody tr th {\n",
       "        vertical-align: top;\n",
       "    }\n",
       "\n",
       "    .dataframe thead th {\n",
       "        text-align: right;\n",
       "    }\n",
       "</style>\n",
       "<table border=\"1\" class=\"dataframe\">\n",
       "  <thead>\n",
       "    <tr style=\"text-align: right;\">\n",
       "      <th></th>\n",
       "      <th>id</th>\n",
       "      <th>start_time</th>\n",
       "      <th>end_time</th>\n",
       "      <th>app_user_id</th>\n",
       "      <th>page_ptr_id</th>\n",
       "      <th>body</th>\n",
       "      <th>description</th>\n",
       "      <th>summary</th>\n",
       "      <th>type</th>\n",
       "      <th>pub_date</th>\n",
       "      <th>created_on</th>\n",
       "      <th>category_id</th>\n",
       "      <th>Category</th>\n",
       "      <th>title</th>\n",
       "    </tr>\n",
       "  </thead>\n",
       "  <tbody>\n",
       "    <tr>\n",
       "      <th>0</th>\n",
       "      <td>1</td>\n",
       "      <td>2020-03-13 10:01:11+00</td>\n",
       "      <td>2020-03-13 10:01:13+00</td>\n",
       "      <td>2</td>\n",
       "      <td>57</td>\n",
       "      <td>[{\"type\": \"text\", \"value\": {\"text\": \"&lt;p&gt;For no...</td>\n",
       "      <td>&lt;p&gt;&lt;b&gt;Contact information for non-urgent menta...</td>\n",
       "      <td>Non-urgent concerns.</td>\n",
       "      <td>text</td>\n",
       "      <td>2020-03-10</td>\n",
       "      <td>2020-05-05</td>\n",
       "      <td>4</td>\n",
       "      <td>Links</td>\n",
       "      <td>Unable to Cope</td>\n",
       "    </tr>\n",
       "    <tr>\n",
       "      <th>1</th>\n",
       "      <td>36</td>\n",
       "      <td>2020-03-17 16:41:45+00</td>\n",
       "      <td>2020-03-17 16:41:48+00</td>\n",
       "      <td>9</td>\n",
       "      <td>57</td>\n",
       "      <td>[{\"type\": \"text\", \"value\": {\"text\": \"&lt;p&gt;For no...</td>\n",
       "      <td>&lt;p&gt;&lt;b&gt;Contact information for non-urgent menta...</td>\n",
       "      <td>Non-urgent concerns.</td>\n",
       "      <td>text</td>\n",
       "      <td>2020-03-10</td>\n",
       "      <td>2020-05-05</td>\n",
       "      <td>4</td>\n",
       "      <td>Links</td>\n",
       "      <td>Unable to Cope</td>\n",
       "    </tr>\n",
       "    <tr>\n",
       "      <th>2</th>\n",
       "      <td>67</td>\n",
       "      <td>2020-03-19 10:54:26+00</td>\n",
       "      <td>2020-03-19 10:55:45+00</td>\n",
       "      <td>11</td>\n",
       "      <td>57</td>\n",
       "      <td>[{\"type\": \"text\", \"value\": {\"text\": \"&lt;p&gt;For no...</td>\n",
       "      <td>&lt;p&gt;&lt;b&gt;Contact information for non-urgent menta...</td>\n",
       "      <td>Non-urgent concerns.</td>\n",
       "      <td>text</td>\n",
       "      <td>2020-03-10</td>\n",
       "      <td>2020-05-05</td>\n",
       "      <td>4</td>\n",
       "      <td>Links</td>\n",
       "      <td>Unable to Cope</td>\n",
       "    </tr>\n",
       "    <tr>\n",
       "      <th>3</th>\n",
       "      <td>485</td>\n",
       "      <td>2020-04-09 10:38:23+00</td>\n",
       "      <td>2020-04-09 10:38:27+00</td>\n",
       "      <td>11</td>\n",
       "      <td>57</td>\n",
       "      <td>[{\"type\": \"text\", \"value\": {\"text\": \"&lt;p&gt;For no...</td>\n",
       "      <td>&lt;p&gt;&lt;b&gt;Contact information for non-urgent menta...</td>\n",
       "      <td>Non-urgent concerns.</td>\n",
       "      <td>text</td>\n",
       "      <td>2020-03-10</td>\n",
       "      <td>2020-05-05</td>\n",
       "      <td>4</td>\n",
       "      <td>Links</td>\n",
       "      <td>Unable to Cope</td>\n",
       "    </tr>\n",
       "    <tr>\n",
       "      <th>4</th>\n",
       "      <td>539</td>\n",
       "      <td>2020-04-21 10:21:59+00</td>\n",
       "      <td>2020-04-21 10:22:36+00</td>\n",
       "      <td>51</td>\n",
       "      <td>57</td>\n",
       "      <td>[{\"type\": \"text\", \"value\": {\"text\": \"&lt;p&gt;For no...</td>\n",
       "      <td>&lt;p&gt;&lt;b&gt;Contact information for non-urgent menta...</td>\n",
       "      <td>Non-urgent concerns.</td>\n",
       "      <td>text</td>\n",
       "      <td>2020-03-10</td>\n",
       "      <td>2020-05-05</td>\n",
       "      <td>4</td>\n",
       "      <td>Links</td>\n",
       "      <td>Unable to Cope</td>\n",
       "    </tr>\n",
       "    <tr>\n",
       "      <th>...</th>\n",
       "      <td>...</td>\n",
       "      <td>...</td>\n",
       "      <td>...</td>\n",
       "      <td>...</td>\n",
       "      <td>...</td>\n",
       "      <td>...</td>\n",
       "      <td>...</td>\n",
       "      <td>...</td>\n",
       "      <td>...</td>\n",
       "      <td>...</td>\n",
       "      <td>...</td>\n",
       "      <td>...</td>\n",
       "      <td>...</td>\n",
       "      <td>...</td>\n",
       "    </tr>\n",
       "    <tr>\n",
       "      <th>9809</th>\n",
       "      <td>10394</td>\n",
       "      <td>2021-05-15 19:54:36+00</td>\n",
       "      <td>2021-05-15 19:54:43+00</td>\n",
       "      <td>2944</td>\n",
       "      <td>117</td>\n",
       "      <td>[{\"type\": \"animated\", \"value\": {\"url\": \"https:...</td>\n",
       "      <td>&lt;p&gt;Watch this short intro on how to use SAM&lt;/p&gt;</td>\n",
       "      <td>Watch this short intro on how to use SAM</td>\n",
       "      <td>selfHelpTool</td>\n",
       "      <td>2020-11-13</td>\n",
       "      <td>2020-11-22</td>\n",
       "      <td>8</td>\n",
       "      <td>Visual Exercise</td>\n",
       "      <td>Pinned</td>\n",
       "    </tr>\n",
       "    <tr>\n",
       "      <th>9810</th>\n",
       "      <td>10395</td>\n",
       "      <td>2021-05-15 22:08:55+00</td>\n",
       "      <td>2021-05-15 22:13:26+00</td>\n",
       "      <td>2946</td>\n",
       "      <td>117</td>\n",
       "      <td>[{\"type\": \"animated\", \"value\": {\"url\": \"https:...</td>\n",
       "      <td>&lt;p&gt;Watch this short intro on how to use SAM&lt;/p&gt;</td>\n",
       "      <td>Watch this short intro on how to use SAM</td>\n",
       "      <td>selfHelpTool</td>\n",
       "      <td>2020-11-13</td>\n",
       "      <td>2020-11-22</td>\n",
       "      <td>8</td>\n",
       "      <td>Visual Exercise</td>\n",
       "      <td>Pinned</td>\n",
       "    </tr>\n",
       "    <tr>\n",
       "      <th>9811</th>\n",
       "      <td>10403</td>\n",
       "      <td>2021-05-16 04:23:59+00</td>\n",
       "      <td>2021-05-16 04:28:25+00</td>\n",
       "      <td>2948</td>\n",
       "      <td>117</td>\n",
       "      <td>[{\"type\": \"animated\", \"value\": {\"url\": \"https:...</td>\n",
       "      <td>&lt;p&gt;Watch this short intro on how to use SAM&lt;/p&gt;</td>\n",
       "      <td>Watch this short intro on how to use SAM</td>\n",
       "      <td>selfHelpTool</td>\n",
       "      <td>2020-11-13</td>\n",
       "      <td>2020-11-22</td>\n",
       "      <td>8</td>\n",
       "      <td>Visual Exercise</td>\n",
       "      <td>Pinned</td>\n",
       "    </tr>\n",
       "    <tr>\n",
       "      <th>9812</th>\n",
       "      <td>10406</td>\n",
       "      <td>2021-05-16 10:35:04+00</td>\n",
       "      <td>2021-05-16 10:35:32+00</td>\n",
       "      <td>2950</td>\n",
       "      <td>117</td>\n",
       "      <td>[{\"type\": \"animated\", \"value\": {\"url\": \"https:...</td>\n",
       "      <td>&lt;p&gt;Watch this short intro on how to use SAM&lt;/p&gt;</td>\n",
       "      <td>Watch this short intro on how to use SAM</td>\n",
       "      <td>selfHelpTool</td>\n",
       "      <td>2020-11-13</td>\n",
       "      <td>2020-11-22</td>\n",
       "      <td>8</td>\n",
       "      <td>Visual Exercise</td>\n",
       "      <td>Pinned</td>\n",
       "    </tr>\n",
       "    <tr>\n",
       "      <th>9813</th>\n",
       "      <td>10418</td>\n",
       "      <td>2021-05-16 19:06:47+00</td>\n",
       "      <td>2021-05-16 19:10:09+00</td>\n",
       "      <td>2950</td>\n",
       "      <td>117</td>\n",
       "      <td>[{\"type\": \"animated\", \"value\": {\"url\": \"https:...</td>\n",
       "      <td>&lt;p&gt;Watch this short intro on how to use SAM&lt;/p&gt;</td>\n",
       "      <td>Watch this short intro on how to use SAM</td>\n",
       "      <td>selfHelpTool</td>\n",
       "      <td>2020-11-13</td>\n",
       "      <td>2020-11-22</td>\n",
       "      <td>8</td>\n",
       "      <td>Visual Exercise</td>\n",
       "      <td>Pinned</td>\n",
       "    </tr>\n",
       "  </tbody>\n",
       "</table>\n",
       "<p>9814 rows × 14 columns</p>\n",
       "</div>"
      ],
      "text/plain": [
       "         id              start_time                end_time  app_user_id  \\\n",
       "0         1  2020-03-13 10:01:11+00  2020-03-13 10:01:13+00            2   \n",
       "1        36  2020-03-17 16:41:45+00  2020-03-17 16:41:48+00            9   \n",
       "2        67  2020-03-19 10:54:26+00  2020-03-19 10:55:45+00           11   \n",
       "3       485  2020-04-09 10:38:23+00  2020-04-09 10:38:27+00           11   \n",
       "4       539  2020-04-21 10:21:59+00  2020-04-21 10:22:36+00           51   \n",
       "...     ...                     ...                     ...          ...   \n",
       "9809  10394  2021-05-15 19:54:36+00  2021-05-15 19:54:43+00         2944   \n",
       "9810  10395  2021-05-15 22:08:55+00  2021-05-15 22:13:26+00         2946   \n",
       "9811  10403  2021-05-16 04:23:59+00  2021-05-16 04:28:25+00         2948   \n",
       "9812  10406  2021-05-16 10:35:04+00  2021-05-16 10:35:32+00         2950   \n",
       "9813  10418  2021-05-16 19:06:47+00  2021-05-16 19:10:09+00         2950   \n",
       "\n",
       "      page_ptr_id                                               body  \\\n",
       "0              57  [{\"type\": \"text\", \"value\": {\"text\": \"<p>For no...   \n",
       "1              57  [{\"type\": \"text\", \"value\": {\"text\": \"<p>For no...   \n",
       "2              57  [{\"type\": \"text\", \"value\": {\"text\": \"<p>For no...   \n",
       "3              57  [{\"type\": \"text\", \"value\": {\"text\": \"<p>For no...   \n",
       "4              57  [{\"type\": \"text\", \"value\": {\"text\": \"<p>For no...   \n",
       "...           ...                                                ...   \n",
       "9809          117  [{\"type\": \"animated\", \"value\": {\"url\": \"https:...   \n",
       "9810          117  [{\"type\": \"animated\", \"value\": {\"url\": \"https:...   \n",
       "9811          117  [{\"type\": \"animated\", \"value\": {\"url\": \"https:...   \n",
       "9812          117  [{\"type\": \"animated\", \"value\": {\"url\": \"https:...   \n",
       "9813          117  [{\"type\": \"animated\", \"value\": {\"url\": \"https:...   \n",
       "\n",
       "                                            description  \\\n",
       "0     <p><b>Contact information for non-urgent menta...   \n",
       "1     <p><b>Contact information for non-urgent menta...   \n",
       "2     <p><b>Contact information for non-urgent menta...   \n",
       "3     <p><b>Contact information for non-urgent menta...   \n",
       "4     <p><b>Contact information for non-urgent menta...   \n",
       "...                                                 ...   \n",
       "9809    <p>Watch this short intro on how to use SAM</p>   \n",
       "9810    <p>Watch this short intro on how to use SAM</p>   \n",
       "9811    <p>Watch this short intro on how to use SAM</p>   \n",
       "9812    <p>Watch this short intro on how to use SAM</p>   \n",
       "9813    <p>Watch this short intro on how to use SAM</p>   \n",
       "\n",
       "                                       summary          type    pub_date  \\\n",
       "0                         Non-urgent concerns.          text  2020-03-10   \n",
       "1                         Non-urgent concerns.          text  2020-03-10   \n",
       "2                         Non-urgent concerns.          text  2020-03-10   \n",
       "3                         Non-urgent concerns.          text  2020-03-10   \n",
       "4                         Non-urgent concerns.          text  2020-03-10   \n",
       "...                                        ...           ...         ...   \n",
       "9809  Watch this short intro on how to use SAM  selfHelpTool  2020-11-13   \n",
       "9810  Watch this short intro on how to use SAM  selfHelpTool  2020-11-13   \n",
       "9811  Watch this short intro on how to use SAM  selfHelpTool  2020-11-13   \n",
       "9812  Watch this short intro on how to use SAM  selfHelpTool  2020-11-13   \n",
       "9813  Watch this short intro on how to use SAM  selfHelpTool  2020-11-13   \n",
       "\n",
       "      created_on  category_id         Category           title  \n",
       "0     2020-05-05            4            Links  Unable to Cope  \n",
       "1     2020-05-05            4            Links  Unable to Cope  \n",
       "2     2020-05-05            4            Links  Unable to Cope  \n",
       "3     2020-05-05            4            Links  Unable to Cope  \n",
       "4     2020-05-05            4            Links  Unable to Cope  \n",
       "...          ...          ...              ...             ...  \n",
       "9809  2020-11-22            8  Visual Exercise          Pinned  \n",
       "9810  2020-11-22            8  Visual Exercise          Pinned  \n",
       "9811  2020-11-22            8  Visual Exercise          Pinned  \n",
       "9812  2020-11-22            8  Visual Exercise          Pinned  \n",
       "9813  2020-11-22            8  Visual Exercise          Pinned  \n",
       "\n",
       "[9814 rows x 14 columns]"
      ]
     },
     "execution_count": 2,
     "metadata": {},
     "output_type": "execute_result"
    }
   ],
   "source": [
    "#Load in and merge the relevant datasets to create dataframe, df, to work with\n",
    "data1=pd.read_csv(\"content-dwelltime.csv\")\n",
    "data2=pd.read_csv(\"content_update.csv\")\n",
    "df=pd.merge(data1,data2, left_on=\"content_id\",right_on=\"page_ptr_id\").drop(\"content_id\",axis=\"columns\")\n",
    "df=df.drop(\"Unnamed: 0\",axis=\"columns\")\n",
    "df"
   ]
  },
  {
   "cell_type": "code",
   "execution_count": 3,
   "metadata": {},
   "outputs": [
    {
     "data": {
      "text/plain": [
       "Timedelta('0 days 00:02:02.667312003')"
      ]
     },
     "execution_count": 3,
     "metadata": {},
     "output_type": "execute_result"
    }
   ],
   "source": [
    "#Mean amount of time per page\n",
    "df[\"duration\"] = pd.to_datetime(df[\"end_time\"]) - pd.to_datetime(df[\"start_time\"])\n",
    "df[\"duration\"].mean()"
   ]
  },
  {
   "cell_type": "code",
   "execution_count": 4,
   "metadata": {},
   "outputs": [],
   "source": [
    "#Mean time spent on each page\n",
    "PageMeans=df.groupby(['page_ptr_id'])[\"duration\"].mean(numeric_only=False)\n",
    "PageM=pd.DataFrame(PageMeans)"
   ]
  },
  {
   "cell_type": "code",
   "execution_count": 5,
   "metadata": {},
   "outputs": [
    {
     "data": {
      "text/html": [
       "<div>\n",
       "<style scoped>\n",
       "    .dataframe tbody tr th:only-of-type {\n",
       "        vertical-align: middle;\n",
       "    }\n",
       "\n",
       "    .dataframe tbody tr th {\n",
       "        vertical-align: top;\n",
       "    }\n",
       "\n",
       "    .dataframe thead th {\n",
       "        text-align: right;\n",
       "    }\n",
       "</style>\n",
       "<table border=\"1\" class=\"dataframe\">\n",
       "  <thead>\n",
       "    <tr style=\"text-align: right;\">\n",
       "      <th></th>\n",
       "      <th>Page Number</th>\n",
       "      <th>Mean Duration</th>\n",
       "    </tr>\n",
       "  </thead>\n",
       "  <tbody>\n",
       "    <tr>\n",
       "      <th>17</th>\n",
       "      <td>21</td>\n",
       "      <td>0 days 00:10:44.073529411</td>\n",
       "    </tr>\n",
       "    <tr>\n",
       "      <th>32</th>\n",
       "      <td>36</td>\n",
       "      <td>0 days 00:06:53.230769230</td>\n",
       "    </tr>\n",
       "    <tr>\n",
       "      <th>36</th>\n",
       "      <td>40</td>\n",
       "      <td>0 days 00:04:48.152671755</td>\n",
       "    </tr>\n",
       "    <tr>\n",
       "      <th>6</th>\n",
       "      <td>10</td>\n",
       "      <td>0 days 00:04:46.820668693</td>\n",
       "    </tr>\n",
       "    <tr>\n",
       "      <th>14</th>\n",
       "      <td>18</td>\n",
       "      <td>0 days 00:04:07.136604774</td>\n",
       "    </tr>\n",
       "    <tr>\n",
       "      <th>...</th>\n",
       "      <td>...</td>\n",
       "      <td>...</td>\n",
       "    </tr>\n",
       "    <tr>\n",
       "      <th>64</th>\n",
       "      <td>94</td>\n",
       "      <td>0 days 00:00:03</td>\n",
       "    </tr>\n",
       "    <tr>\n",
       "      <th>74</th>\n",
       "      <td>104</td>\n",
       "      <td>0 days 00:00:03</td>\n",
       "    </tr>\n",
       "    <tr>\n",
       "      <th>78</th>\n",
       "      <td>108</td>\n",
       "      <td>0 days 00:00:02.916666666</td>\n",
       "    </tr>\n",
       "    <tr>\n",
       "      <th>65</th>\n",
       "      <td>95</td>\n",
       "      <td>0 days 00:00:02.500000</td>\n",
       "    </tr>\n",
       "    <tr>\n",
       "      <th>70</th>\n",
       "      <td>100</td>\n",
       "      <td>0 days 00:00:02</td>\n",
       "    </tr>\n",
       "  </tbody>\n",
       "</table>\n",
       "<p>81 rows × 2 columns</p>\n",
       "</div>"
      ],
      "text/plain": [
       "    Page Number             Mean Duration\n",
       "17           21 0 days 00:10:44.073529411\n",
       "32           36 0 days 00:06:53.230769230\n",
       "36           40 0 days 00:04:48.152671755\n",
       "6            10 0 days 00:04:46.820668693\n",
       "14           18 0 days 00:04:07.136604774\n",
       "..          ...                       ...\n",
       "64           94           0 days 00:00:03\n",
       "74          104           0 days 00:00:03\n",
       "78          108 0 days 00:00:02.916666666\n",
       "65           95    0 days 00:00:02.500000\n",
       "70          100           0 days 00:00:02\n",
       "\n",
       "[81 rows x 2 columns]"
      ]
     },
     "execution_count": 5,
     "metadata": {},
     "output_type": "execute_result"
    }
   ],
   "source": [
    "PageM = PageM.reset_index()\n",
    "PageM.columns=[\"Page Number\",\"Mean Duration\"]\n",
    "PageM.sort_values(by='Mean Duration', ascending=False)"
   ]
  },
  {
   "cell_type": "code",
   "execution_count": 6,
   "metadata": {},
   "outputs": [],
   "source": [
    "#Total Time Spent on each page\n",
    "PageTotalTime=df.groupby(['page_ptr_id'])[\"duration\"].sum(numeric_only=False)\n",
    "PageTT=pd.DataFrame(PageTotalTime)"
   ]
  },
  {
   "cell_type": "code",
   "execution_count": 7,
   "metadata": {},
   "outputs": [
    {
     "data": {
      "text/html": [
       "<div>\n",
       "<style scoped>\n",
       "    .dataframe tbody tr th:only-of-type {\n",
       "        vertical-align: middle;\n",
       "    }\n",
       "\n",
       "    .dataframe tbody tr th {\n",
       "        vertical-align: top;\n",
       "    }\n",
       "\n",
       "    .dataframe thead th {\n",
       "        text-align: right;\n",
       "    }\n",
       "</style>\n",
       "<table border=\"1\" class=\"dataframe\">\n",
       "  <thead>\n",
       "    <tr style=\"text-align: right;\">\n",
       "      <th></th>\n",
       "      <th>Page Number</th>\n",
       "      <th>Total Time</th>\n",
       "    </tr>\n",
       "  </thead>\n",
       "  <tbody>\n",
       "    <tr>\n",
       "      <th>14</th>\n",
       "      <td>18</td>\n",
       "      <td>2 days 03:45:41</td>\n",
       "    </tr>\n",
       "    <tr>\n",
       "      <th>80</th>\n",
       "      <td>117</td>\n",
       "      <td>1 days 13:46:27</td>\n",
       "    </tr>\n",
       "    <tr>\n",
       "      <th>12</th>\n",
       "      <td>16</td>\n",
       "      <td>1 days 08:42:42</td>\n",
       "    </tr>\n",
       "    <tr>\n",
       "      <th>36</th>\n",
       "      <td>40</td>\n",
       "      <td>1 days 07:27:24</td>\n",
       "    </tr>\n",
       "    <tr>\n",
       "      <th>6</th>\n",
       "      <td>10</td>\n",
       "      <td>1 days 02:12:44</td>\n",
       "    </tr>\n",
       "    <tr>\n",
       "      <th>...</th>\n",
       "      <td>...</td>\n",
       "      <td>...</td>\n",
       "    </tr>\n",
       "    <tr>\n",
       "      <th>66</th>\n",
       "      <td>96</td>\n",
       "      <td>0 days 00:00:10</td>\n",
       "    </tr>\n",
       "    <tr>\n",
       "      <th>58</th>\n",
       "      <td>78</td>\n",
       "      <td>0 days 00:00:08</td>\n",
       "    </tr>\n",
       "    <tr>\n",
       "      <th>65</th>\n",
       "      <td>95</td>\n",
       "      <td>0 days 00:00:05</td>\n",
       "    </tr>\n",
       "    <tr>\n",
       "      <th>70</th>\n",
       "      <td>100</td>\n",
       "      <td>0 days 00:00:04</td>\n",
       "    </tr>\n",
       "    <tr>\n",
       "      <th>64</th>\n",
       "      <td>94</td>\n",
       "      <td>0 days 00:00:03</td>\n",
       "    </tr>\n",
       "  </tbody>\n",
       "</table>\n",
       "<p>81 rows × 2 columns</p>\n",
       "</div>"
      ],
      "text/plain": [
       "    Page Number      Total Time\n",
       "14           18 2 days 03:45:41\n",
       "80          117 1 days 13:46:27\n",
       "12           16 1 days 08:42:42\n",
       "36           40 1 days 07:27:24\n",
       "6            10 1 days 02:12:44\n",
       "..          ...             ...\n",
       "66           96 0 days 00:00:10\n",
       "58           78 0 days 00:00:08\n",
       "65           95 0 days 00:00:05\n",
       "70          100 0 days 00:00:04\n",
       "64           94 0 days 00:00:03\n",
       "\n",
       "[81 rows x 2 columns]"
      ]
     },
     "execution_count": 7,
     "metadata": {},
     "output_type": "execute_result"
    }
   ],
   "source": [
    "PageTT = PageTT.reset_index()\n",
    "PageTT.columns=[\"Page Number\",\"Total Time\"]\n",
    "PageTT.sort_values(by='Total Time', ascending=False)"
   ]
  },
  {
   "cell_type": "code",
   "execution_count": 8,
   "metadata": {},
   "outputs": [
    {
     "data": {
      "text/html": [
       "<div>\n",
       "<style scoped>\n",
       "    .dataframe tbody tr th:only-of-type {\n",
       "        vertical-align: middle;\n",
       "    }\n",
       "\n",
       "    .dataframe tbody tr th {\n",
       "        vertical-align: top;\n",
       "    }\n",
       "\n",
       "    .dataframe thead th {\n",
       "        text-align: right;\n",
       "    }\n",
       "</style>\n",
       "<table border=\"1\" class=\"dataframe\">\n",
       "  <thead>\n",
       "    <tr style=\"text-align: right;\">\n",
       "      <th></th>\n",
       "      <th>Page Number</th>\n",
       "      <th>Clicks</th>\n",
       "    </tr>\n",
       "  </thead>\n",
       "  <tbody>\n",
       "    <tr>\n",
       "      <th>0</th>\n",
       "      <td>16</td>\n",
       "      <td>1182</td>\n",
       "    </tr>\n",
       "    <tr>\n",
       "      <th>1</th>\n",
       "      <td>18</td>\n",
       "      <td>754</td>\n",
       "    </tr>\n",
       "    <tr>\n",
       "      <th>2</th>\n",
       "      <td>117</td>\n",
       "      <td>637</td>\n",
       "    </tr>\n",
       "    <tr>\n",
       "      <th>3</th>\n",
       "      <td>14</td>\n",
       "      <td>596</td>\n",
       "    </tr>\n",
       "    <tr>\n",
       "      <th>4</th>\n",
       "      <td>59</td>\n",
       "      <td>595</td>\n",
       "    </tr>\n",
       "    <tr>\n",
       "      <th>...</th>\n",
       "      <td>...</td>\n",
       "      <td>...</td>\n",
       "    </tr>\n",
       "    <tr>\n",
       "      <th>76</th>\n",
       "      <td>80</td>\n",
       "      <td>1</td>\n",
       "    </tr>\n",
       "    <tr>\n",
       "      <th>77</th>\n",
       "      <td>78</td>\n",
       "      <td>1</td>\n",
       "    </tr>\n",
       "    <tr>\n",
       "      <th>78</th>\n",
       "      <td>94</td>\n",
       "      <td>1</td>\n",
       "    </tr>\n",
       "    <tr>\n",
       "      <th>79</th>\n",
       "      <td>79</td>\n",
       "      <td>1</td>\n",
       "    </tr>\n",
       "    <tr>\n",
       "      <th>80</th>\n",
       "      <td>81</td>\n",
       "      <td>1</td>\n",
       "    </tr>\n",
       "  </tbody>\n",
       "</table>\n",
       "<p>81 rows × 2 columns</p>\n",
       "</div>"
      ],
      "text/plain": [
       "    Page Number  Clicks\n",
       "0            16    1182\n",
       "1            18     754\n",
       "2           117     637\n",
       "3            14     596\n",
       "4            59     595\n",
       "..          ...     ...\n",
       "76           80       1\n",
       "77           78       1\n",
       "78           94       1\n",
       "79           79       1\n",
       "80           81       1\n",
       "\n",
       "[81 rows x 2 columns]"
      ]
     },
     "execution_count": 8,
     "metadata": {},
     "output_type": "execute_result"
    }
   ],
   "source": [
    "#Most and least viewed pages overall\n",
    "Clicks=df[\"page_ptr_id\"].value_counts()\n",
    "df_clicks = pd.DataFrame(Clicks)\n",
    "df_clicks = df_clicks.reset_index()\n",
    "df_clicks.columns = ['Page Number', \"Clicks\"] \n",
    "df_clicks"
   ]
  },
  {
   "cell_type": "code",
   "execution_count": 9,
   "metadata": {},
   "outputs": [],
   "source": [
    "#Create new CSV file with page usage statistics\n",
    "Usage=pd.merge(PageM, PageTT, on='Page Number')\n",
    "Usage1=pd.merge(Usage, df_clicks, on=\"Page Number\")\n",
    "Usage1=Usage1.sort_values(by='Page Number', ascending=True)\n",
    "Usage1.to_csv('pageusagestatistics.csv')"
   ]
  },
  {
   "cell_type": "code",
   "execution_count": 10,
   "metadata": {},
   "outputs": [],
   "source": [
    "#Creating sub group for pages based on their target group\n",
    "Anxiety=df[df[\"title\"]==\"Anxious\"]\n",
    "Coping= df[df[\"title\"]==\"Unable to Cope\"]\n",
    "Depression=df[df[\"title\"]==\"Depressed\"]\n",
    "Lonely=df[df[\"title\"]==\"Lonely\"]"
   ]
  },
  {
   "cell_type": "code",
   "execution_count": 11,
   "metadata": {},
   "outputs": [
    {
     "data": {
      "text/plain": [
       "<AxesSubplot:xlabel='Page Number', ylabel='Clicks'>"
      ]
     },
     "execution_count": 11,
     "metadata": {},
     "output_type": "execute_result"
    },
    {
     "data": {
      "image/png": "[encoded data removed]",
      "text/plain": [
       "<Figure size 432x288 with 1 Axes>"
      ]
     },
     "metadata": {
      "needs_background": "light"
     },
     "output_type": "display_data"
    }
   ],
   "source": [
    "#Investigating which is the most clicked on pages recommended for anxiety\n",
    "AClicks=Anxiety[\"page_ptr_id\"].value_counts()\n",
    "df_Aclicks = pd.DataFrame(AClicks)\n",
    "df_Aclicks = df_Aclicks.reset_index()\n",
    "df_Aclicks.columns = ['Page Number', \"Clicks\"] \n",
    "df_Aclicks = df_Aclicks.sort_values('Clicks').reset_index()\n",
    "sb.barplot(x=\"Page Number\", y=\"Clicks\", data=df_Aclicks, order=df_Aclicks['Page Number'])"
   ]
  },
  {
   "cell_type": "code",
   "execution_count": 12,
   "metadata": {},
   "outputs": [
    {
     "data": {
      "text/plain": [
       "<AxesSubplot:xlabel='Page Number', ylabel='Clicks'>"
      ]
     },
     "execution_count": 12,
     "metadata": {},
     "output_type": "execute_result"
    },
    {
     "data": {
      "image/png": "[encoded data removed]",
      "text/plain": [
       "<Figure size 432x288 with 1 Axes>"
      ]
     },
     "metadata": {
      "needs_background": "light"
     },
     "output_type": "display_data"
    }
   ],
   "source": [
    "#Investigating which is the most clicked on pages recommended for coping\n",
    "CClicks=Coping[\"page_ptr_id\"].value_counts()\n",
    "df_Cclicks = pd.DataFrame(CClicks)\n",
    "df_Cclicks = df_Cclicks.reset_index()\n",
    "df_Cclicks.columns = ['Page Number', \"Clicks\"] \n",
    "df_Cclicks = df_Cclicks.sort_values('Clicks').reset_index()\n",
    "sb.barplot(x=\"Page Number\", y=\"Clicks\", data=df_Cclicks, order=df_Cclicks['Page Number'])"
   ]
  },
  {
   "cell_type": "code",
   "execution_count": 13,
   "metadata": {},
   "outputs": [
    {
     "data": {
      "text/plain": [
       "<AxesSubplot:xlabel='Page Number', ylabel='Clicks'>"
      ]
     },
     "execution_count": 13,
     "metadata": {},
     "output_type": "execute_result"
    },
    {
     "data": {
      "image/png": "[encoded data removed]",
      "text/plain": [
       "<Figure size 432x288 with 1 Axes>"
      ]
     },
     "metadata": {
      "needs_background": "light"
     },
     "output_type": "display_data"
    }
   ],
   "source": [
    "#Investigating which is the most clicked on pages recommended for depression\n",
    "DClicks=Depression[\"page_ptr_id\"].value_counts()\n",
    "df_Dclicks = pd.DataFrame(DClicks)\n",
    "df_Dclicks = df_Dclicks.reset_index()\n",
    "df_Dclicks.columns = ['Page Number', \"Clicks\"] \n",
    "df_Dclicks = df_Dclicks.sort_values('Clicks').reset_index()\n",
    "sb.barplot(x=\"Page Number\", y=\"Clicks\", data=df_Dclicks, order=df_Dclicks['Page Number'])"
   ]
  },
  {
   "cell_type": "code",
   "execution_count": 14,
   "metadata": {},
   "outputs": [
    {
     "data": {
      "text/plain": [
       "<AxesSubplot:xlabel='Page Number', ylabel='Clicks'>"
      ]
     },
     "execution_count": 14,
     "metadata": {},
     "output_type": "execute_result"
    },
    {
     "data": {
      "image/png": "[encoded data removed]",
      "text/plain": [
       "<Figure size 432x288 with 1 Axes>"
      ]
     },
     "metadata": {
      "needs_background": "light"
     },
     "output_type": "display_data"
    }
   ],
   "source": [
    "#Investigating which is the most clicked on pages recommended for loneliness\n",
    "LClicks=Lonely[\"page_ptr_id\"].value_counts()\n",
    "df_Lclicks = pd.DataFrame(LClicks)\n",
    "df_Lclicks = df_Lclicks.reset_index()\n",
    "df_Lclicks.columns = ['Page Number', \"Clicks\"] \n",
    "df_Lclicks = df_Lclicks.sort_values('Clicks').reset_index()\n",
    "sb.barplot(x=\"Page Number\", y=\"Clicks\", data=df_Lclicks, order=df_Lclicks['Page Number'])"
   ]
  },
  {
   "cell_type": "code",
   "execution_count": 15,
   "metadata": {},
   "outputs": [
    {
     "data": {
      "text/html": [
       "<div>\n",
       "<style scoped>\n",
       "    .dataframe tbody tr th:only-of-type {\n",
       "        vertical-align: middle;\n",
       "    }\n",
       "\n",
       "    .dataframe tbody tr th {\n",
       "        vertical-align: top;\n",
       "    }\n",
       "\n",
       "    .dataframe thead th {\n",
       "        text-align: right;\n",
       "    }\n",
       "</style>\n",
       "<table border=\"1\" class=\"dataframe\">\n",
       "  <thead>\n",
       "    <tr style=\"text-align: right;\">\n",
       "      <th></th>\n",
       "      <th>User ID</th>\n",
       "      <th>User Time</th>\n",
       "    </tr>\n",
       "  </thead>\n",
       "  <tbody>\n",
       "    <tr>\n",
       "      <th>817</th>\n",
       "      <td>1559</td>\n",
       "      <td>2 days 01:04:31</td>\n",
       "    </tr>\n",
       "    <tr>\n",
       "      <th>637</th>\n",
       "      <td>1246</td>\n",
       "      <td>0 days 23:23:18</td>\n",
       "    </tr>\n",
       "    <tr>\n",
       "      <th>1014</th>\n",
       "      <td>1860</td>\n",
       "      <td>0 days 18:39:55</td>\n",
       "    </tr>\n",
       "    <tr>\n",
       "      <th>96</th>\n",
       "      <td>197</td>\n",
       "      <td>0 days 16:07:32</td>\n",
       "    </tr>\n",
       "    <tr>\n",
       "      <th>779</th>\n",
       "      <td>1493</td>\n",
       "      <td>0 days 13:56:16</td>\n",
       "    </tr>\n",
       "    <tr>\n",
       "      <th>...</th>\n",
       "      <td>...</td>\n",
       "      <td>...</td>\n",
       "    </tr>\n",
       "    <tr>\n",
       "      <th>178</th>\n",
       "      <td>387</td>\n",
       "      <td>0 days 00:00:02</td>\n",
       "    </tr>\n",
       "    <tr>\n",
       "      <th>724</th>\n",
       "      <td>1390</td>\n",
       "      <td>0 days 00:00:02</td>\n",
       "    </tr>\n",
       "    <tr>\n",
       "      <th>1383</th>\n",
       "      <td>2459</td>\n",
       "      <td>0 days 00:00:01</td>\n",
       "    </tr>\n",
       "    <tr>\n",
       "      <th>166</th>\n",
       "      <td>369</td>\n",
       "      <td>0 days 00:00:01</td>\n",
       "    </tr>\n",
       "    <tr>\n",
       "      <th>838</th>\n",
       "      <td>1588</td>\n",
       "      <td>0 days 00:00:01</td>\n",
       "    </tr>\n",
       "  </tbody>\n",
       "</table>\n",
       "<p>1677 rows × 2 columns</p>\n",
       "</div>"
      ],
      "text/plain": [
       "      User ID       User Time\n",
       "817      1559 2 days 01:04:31\n",
       "637      1246 0 days 23:23:18\n",
       "1014     1860 0 days 18:39:55\n",
       "96        197 0 days 16:07:32\n",
       "779      1493 0 days 13:56:16\n",
       "...       ...             ...\n",
       "178       387 0 days 00:00:02\n",
       "724      1390 0 days 00:00:02\n",
       "1383     2459 0 days 00:00:01\n",
       "166       369 0 days 00:00:01\n",
       "838      1588 0 days 00:00:01\n",
       "\n",
       "[1677 rows x 2 columns]"
      ]
     },
     "execution_count": 15,
     "metadata": {},
     "output_type": "execute_result"
    }
   ],
   "source": [
    "#Time users have been on the site\n",
    "UserTimes=df.groupby(['app_user_id'])[\"duration\"].sum(numeric_only=False)\n",
    "UserT=pd.DataFrame(UserTimes)\n",
    "UserT = UserT.reset_index()\n",
    "UserT.columns=[\"User ID\",\"User Time\"]\n",
    "UserT.sort_values(by='User Time', ascending=False)"
   ]
  },
  {
   "cell_type": "code",
   "execution_count": 16,
   "metadata": {},
   "outputs": [
    {
     "data": {
      "text/plain": [
       "count                         1677\n",
       "mean     0 days 00:11:57.863446630\n",
       "std      0 days 01:37:03.145085022\n",
       "min                0 days 00:00:01\n",
       "25%                0 days 00:00:23\n",
       "50%                0 days 00:01:29\n",
       "75%                0 days 00:04:37\n",
       "max                2 days 01:04:31\n",
       "Name: User Time, dtype: object"
      ]
     },
     "execution_count": 16,
     "metadata": {},
     "output_type": "execute_result"
    }
   ],
   "source": [
    "UserT[\"User Time\"].describe()\n",
    "#Average time a user spends on site is 12 mins. 75 % of users spend less than 4 mins 40s"
   ]
  },
  {
   "cell_type": "code",
   "execution_count": 17,
   "metadata": {},
   "outputs": [
    {
     "data": {
      "text/plain": [
       "Information          41\n",
       "Mental Exercise      22\n",
       "Links                17\n",
       "Physical Exercise     6\n",
       "Audio Exercise        5\n",
       "Other                 4\n",
       "Written Exercise      3\n",
       "Creative Exercise     2\n",
       "Visual Exercise       2\n",
       "Animation             1\n",
       "Name: Category, dtype: int64"
      ]
     },
     "execution_count": 17,
     "metadata": {},
     "output_type": "execute_result"
    }
   ],
   "source": [
    "#Types of pages on the site (loosely categorised based on description given)\n",
    "data2[\"Category\"].value_counts()"
   ]
  },
  {
   "cell_type": "code",
   "execution_count": 18,
   "metadata": {},
   "outputs": [
    {
     "data": {
      "text/plain": [
       "<AxesSubplot:xlabel='Category', ylabel='Count'>"
      ]
     },
     "execution_count": 18,
     "metadata": {},
     "output_type": "execute_result"
    },
    {
     "data": {
      "image/png": "[encoded data removed]",
      "text/plain": [
       "<Figure size 842.4x595.44 with 1 Axes>"
      ]
     },
     "metadata": {
      "needs_background": "light"
     },
     "output_type": "display_data"
    }
   ],
   "source": [
    "#Categories most selected for anxiety\n",
    "a4_dims = (11.7, 8.27)\n",
    "fig, ax = pyplot.subplots(figsize=a4_dims)\n",
    "ACategories=Anxiety[\"Category\"].value_counts()\n",
    "df_ACategories = pd.DataFrame(ACategories)\n",
    "df_ACategories = df_ACategories.reset_index()\n",
    "df_ACategories.columns = ['Category', \"Count\"] \n",
    "df_ACategories = df_ACategories.sort_values('Count').reset_index()\n",
    "sb.barplot(x=\"Category\", y=\"Count\", data=df_ACategories, order=df_ACategories['Category'])"
   ]
  },
  {
   "cell_type": "code",
   "execution_count": 19,
   "metadata": {},
   "outputs": [
    {
     "data": {
      "text/plain": [
       "<AxesSubplot:xlabel='Category', ylabel='Count'>"
      ]
     },
     "execution_count": 19,
     "metadata": {},
     "output_type": "execute_result"
    },
    {
     "data": {
      "image/png": "[encoded data removed]",
      "text/plain": [
       "<Figure size 842.4x595.44 with 1 Axes>"
      ]
     },
     "metadata": {
      "needs_background": "light"
     },
     "output_type": "display_data"
    }
   ],
   "source": [
    "#Categories most selected for coping\n",
    "a4_dims = (11.7, 8.27)\n",
    "fig, ax = pyplot.subplots(figsize=a4_dims)\n",
    "CCategories=Coping[\"Category\"].value_counts()\n",
    "df_CCategories = pd.DataFrame(CCategories)\n",
    "df_CCategories = df_CCategories.reset_index()\n",
    "df_CCategories.columns = ['Category', \"Count\"] \n",
    "df_CCategories = df_CCategories.sort_values('Count').reset_index()\n",
    "sb.barplot(x=\"Category\", y=\"Count\", data=df_CCategories, order=df_CCategories['Category'])"
   ]
  },
  {
   "cell_type": "code",
   "execution_count": 20,
   "metadata": {},
   "outputs": [
    {
     "data": {
      "text/plain": [
       "<AxesSubplot:xlabel='Category', ylabel='Count'>"
      ]
     },
     "execution_count": 20,
     "metadata": {},
     "output_type": "execute_result"
    },
    {
     "data": {
      "image/png": "[encoded data removed]",
      "text/plain": [
       "<Figure size 842.4x595.44 with 1 Axes>"
      ]
     },
     "metadata": {
      "needs_background": "light"
     },
     "output_type": "display_data"
    }
   ],
   "source": [
    "#Categories most selected for depression\n",
    "a4_dims = (11.7, 8.27)\n",
    "fig, ax = pyplot.subplots(figsize=a4_dims)\n",
    "DCategories=Depression[\"Category\"].value_counts()\n",
    "df_DCategories = pd.DataFrame(DCategories)\n",
    "df_DCategories = df_DCategories.reset_index()\n",
    "df_DCategories.columns = ['Category', \"Count\"] \n",
    "df_DCategories = df_DCategories.sort_values('Count').reset_index()\n",
    "sb.barplot(x=\"Category\", y=\"Count\", data=df_DCategories, order=df_DCategories['Category'])"
   ]
  },
  {
   "cell_type": "code",
   "execution_count": 21,
   "metadata": {},
   "outputs": [
    {
     "data": {
      "text/plain": [
       "<AxesSubplot:xlabel='Category', ylabel='Count'>"
      ]
     },
     "execution_count": 21,
     "metadata": {},
     "output_type": "execute_result"
    },
    {
     "data": {
      "image/png": "[encoded data removed]",
      "text/plain": [
       "<Figure size 842.4x595.44 with 1 Axes>"
      ]
     },
     "metadata": {
      "needs_background": "light"
     },
     "output_type": "display_data"
    }
   ],
   "source": [
    "#Categories most selected for Loneliness\n",
    "a4_dims = (11.7, 8.27)\n",
    "fig, ax = pyplot.subplots(figsize=a4_dims)\n",
    "LCategories=Lonely[\"Category\"].value_counts()\n",
    "df_LCategories = pd.DataFrame(LCategories)\n",
    "df_LCategories = df_LCategories.reset_index()\n",
    "df_LCategories.columns = ['Category', \"Count\"] \n",
    "df_LCategories = df_LCategories.sort_values('Count').reset_index()\n",
    "sb.barplot(x=\"Category\", y=\"Count\", data=df_LCategories, order=df_LCategories['Category'])"
   ]
  },
  {
   "cell_type": "code",
   "execution_count": 22,
   "metadata": {},
   "outputs": [
    {
     "data": {
      "image/png": "[encoded data removed]",
      "text/plain": [
       "<Figure size 432x288 with 1 Axes>"
      ]
     },
     "metadata": {
      "needs_background": "light"
     },
     "output_type": "display_data"
    }
   ],
   "source": [
    "#Mean daily page visits each month. Note data ends halfway though final month\n",
    "df['Datetime'] = pd.to_datetime(df['start_time'])\n",
    "df = df.set_index('Datetime')\n",
    "daily = df.groupby(pd.Grouper(freq='D'))[\"id\"].count()\n",
    "monthly = daily.groupby(pd.Grouper(freq='M')).mean()\n",
    "ax = monthly.plot(kind='bar')"
   ]
  }
 ],
 "metadata": {
  "kernelspec": {
   "display_name": "Python 3",
   "language": "python",
   "name": "python3"
  },
  "language_info": {
   "codemirror_mode": {
    "name": "ipython",
    "version": 3
   },
   "file_extension": ".py",
   "mimetype": "text/x-python",
   "name": "python",
   "nbconvert_exporter": "python",
   "pygments_lexer": "ipython3",
   "version": "3.8.5"
  }
 },
 "nbformat": 4,
 "nbformat_minor": 4
}
